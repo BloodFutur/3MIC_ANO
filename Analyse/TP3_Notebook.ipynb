{
 "cells": [
  {
   "cell_type": "markdown",
   "metadata": {},
   "source": [
    "# Interpolation polynomiale - Étude du phénomène de Runge"
   ]
  },
  {
   "cell_type": "markdown",
   "metadata": {},
   "source": [
    "### Importation de packages pour Python"
   ]
  },
  {
   "cell_type": "code",
   "execution_count": 5,
   "metadata": {},
   "outputs": [],
   "source": [
    "%matplotlib inline\n",
    "import matplotlib.pyplot as plt\n",
    "import numpy as np\n",
    "import numpy.linalg as npl"
   ]
  },
  {
   "cell_type": "markdown",
   "metadata": {},
   "source": [
    "## Retour sur le phénomène de Runge\n",
    "\n",
    "On a vu dans le cours le phénomène de Runge qui se traduit par une mauvaise interpolation, lorsque l'on augmente le degré du polynôme d'interpolation de Lagrange, de la fonction $f$ définie sur $\\mathbb{R}$ par\n",
    "$$\n",
    "f(x) = \\dfrac{1}{1+x^2}.\n",
    "$$\n",
    "Le but du TP est d'observer ce phénomène mais aussi de mettre en oeuvre une meilleure répartition des points d'interpolation à l'aide des racines des polynômes de Chebyshev et de constater l'atténuation du phénomène de Runge. Plus particulièrement, vous implémenterez des fonctions permettant de calculer le polynôme d'interpolation de Lagrange par la méthode directe, celle de Lagrange et celle de Newton. On verra l'intérêt d'utiliser la méthode de Newton lorsque l'on désire ajouter un point d'interpolation."
   ]
  },
  {
   "cell_type": "markdown",
   "metadata": {},
   "source": [
    "### Fonction de Runge"
   ]
  },
  {
   "cell_type": "markdown",
   "metadata": {},
   "source": [
    ">**À faire :** Implémenter une fonction **Runge** qui à chaque un vecteur $x$ sous format numpy retourne le vecteur $f(x)$. Puis, tracer de cette fonction sur l'intervalle $[-3,3]$."
   ]
  },
  {
   "cell_type": "code",
   "execution_count": 6,
   "metadata": {},
   "outputs": [
    {
     "data": {
      "text/plain": [
       "[<matplotlib.lines.Line2D at 0x7f4652d44220>]"
      ]
     },
     "execution_count": 6,
     "metadata": {},
     "output_type": "execute_result"
    },
    {
     "data": {
      "image/png": "[encoded data removed]",
      "text/plain": [
       "<Figure size 640x480 with 1 Axes>"
      ]
     },
     "metadata": {},
     "output_type": "display_data"
    }
   ],
   "source": [
    "def Runge(x):\n",
    "    return 1./(1+np.power(x,2))\n",
    "x = np.arange(-3,3, 6/100)\n",
    "plt.plot(x,Runge(x))"
   ]
  },
  {
   "cell_type": "markdown",
   "metadata": {},
   "source": [
    "### Construction de points d'interpolation équirépartis"
   ]
  },
  {
   "cell_type": "markdown",
   "metadata": {},
   "source": [
    "Dans un premier temps, nous allons considérer des points d'interpolation uniformément répartis sur l'intervalle d'interpolation $[a,b]$, $a<b$. L'ensemble des points d'interpolation $(x_j)_{0\\leq j\\leq n}$ va donc être donné, pour un certain $n\\geq 1$, par\n",
    "$$ x_j = a + (b-a)\\frac j n, \\quad 0\\leq j\\leq n.$$\n",
    "\n",
    "\n",
    ">**À faire :** Implémenter une fonction **Interp_Equi** qui prend en arguments d'entrée les valeurs $a$ et $b$ (qui définissent l'intervalle d'interpolation) ainsi que $m$ de manière à retourner un vecteur $x$ de $m$ points d'interpolations équirépartis sur $[a,b]$. "
   ]
  },
  {
   "cell_type": "code",
   "execution_count": 7,
   "metadata": {},
   "outputs": [
    {
     "name": "stdout",
     "output_type": "stream",
     "text": [
      "[-3.         -2.33333333 -1.66666667 -1.         -0.33333333  0.33333333\n",
      "  1.          1.66666667  2.33333333  3.        ]\n"
     ]
    }
   ],
   "source": [
    "def Interp_Equi(a,b,m):\n",
    "    x = np.array([])\n",
    "    for i in range(m):\n",
    "        x = np.append(x,a+(b-a)*i/(m-1))\n",
    "    return x\n",
    "print(Interp_Equi(-3,3,10))"
   ]
  },
  {
   "cell_type": "markdown",
   "metadata": {},
   "source": [
    "### Méthode directe de construction d'un polynôme d'interpolation"
   ]
  },
  {
   "cell_type": "markdown",
   "metadata": {},
   "source": [
    "On rappelle que la méthode directe de construction consiste à simplement poser le système d'équations suivant\n",
    "$$ p(x_j) = y_j, \\quad 0\\leq j\\leq n,$$\n",
    "sous la forme d'un système linéaire dont la solution correspond au vecteur $(a_j)_{0\\leq j\\leq n}$ de coefficients du polynôme d'interpolation. Plus précisément, le système s'écrit\n",
    "$$ \\left[ \n",
    "\\begin{array}{ccccc}\n",
    "1 & x_0 & \\cdots & x_0^{n-1} & x_0^n \\\\ \n",
    "1  & x_1 & \\cdots & x_1^{n-1}  & x_1^n \\\\ \n",
    "\\vdots & \\vdots &  & & \\vdots \\\\ \n",
    "1 & x_n & \\cdots & x_{n}^{n-1} & x_{n}^n\n",
    "\\end{array}\n",
    "\\right]\\left[\\begin{array}{c}a_0\\\\ a_1\\\\ \\vdots \\\\ a_n \\end{array}\\right] = \\left[\\begin{array}{c}y_0\\\\ y_1\\\\ \\vdots \\\\ y_n \\end{array}\\right].\n",
    " $$\n",
    " \n",
    " >**À faire :** Implémenter une fonction **Vandermonde** qui prend en arguments d'entrée un vecteur $x$ de points d'interpolation et qui rend, en sortie, la matrice de Vandermonde associée au système linéaire précédent. "
   ]
  },
  {
   "cell_type": "code",
   "execution_count": 8,
   "metadata": {},
   "outputs": [
    {
     "data": {
      "text/plain": [
       "array([[ 1.00000000e+00, -3.00000000e+00,  9.00000000e+00,\n",
       "        -2.70000000e+01,  8.10000000e+01, -2.43000000e+02,\n",
       "         7.29000000e+02, -2.18700000e+03,  6.56100000e+03,\n",
       "        -1.96830000e+04],\n",
       "       [ 1.00000000e+00, -2.33333333e+00,  5.44444444e+00,\n",
       "        -1.27037037e+01,  2.96419753e+01, -6.91646091e+01,\n",
       "         1.61384088e+02, -3.76562872e+02,  8.78646700e+02,\n",
       "        -2.05017563e+03],\n",
       "       [ 1.00000000e+00, -1.66666667e+00,  2.77777778e+00,\n",
       "        -4.62962963e+00,  7.71604938e+00, -1.28600823e+01,\n",
       "         2.14334705e+01, -3.57224508e+01,  5.95374181e+01,\n",
       "        -9.92290301e+01],\n",
       "       [ 1.00000000e+00, -1.00000000e+00,  1.00000000e+00,\n",
       "        -1.00000000e+00,  1.00000000e+00, -1.00000000e+00,\n",
       "         1.00000000e+00, -1.00000000e+00,  1.00000000e+00,\n",
       "        -1.00000000e+00],\n",
       "       [ 1.00000000e+00, -3.33333333e-01,  1.11111111e-01,\n",
       "        -3.70370370e-02,  1.23456790e-02, -4.11522634e-03,\n",
       "         1.37174211e-03, -4.57247371e-04,  1.52415790e-04,\n",
       "        -5.08052634e-05],\n",
       "       [ 1.00000000e+00,  3.33333333e-01,  1.11111111e-01,\n",
       "         3.70370370e-02,  1.23456790e-02,  4.11522634e-03,\n",
       "         1.37174211e-03,  4.57247371e-04,  1.52415790e-04,\n",
       "         5.08052634e-05],\n",
       "       [ 1.00000000e+00,  1.00000000e+00,  1.00000000e+00,\n",
       "         1.00000000e+00,  1.00000000e+00,  1.00000000e+00,\n",
       "         1.00000000e+00,  1.00000000e+00,  1.00000000e+00,\n",
       "         1.00000000e+00],\n",
       "       [ 1.00000000e+00,  1.66666667e+00,  2.77777778e+00,\n",
       "         4.62962963e+00,  7.71604938e+00,  1.28600823e+01,\n",
       "         2.14334705e+01,  3.57224508e+01,  5.95374181e+01,\n",
       "         9.92290301e+01],\n",
       "       [ 1.00000000e+00,  2.33333333e+00,  5.44444444e+00,\n",
       "         1.27037037e+01,  2.96419753e+01,  6.91646091e+01,\n",
       "         1.61384088e+02,  3.76562872e+02,  8.78646700e+02,\n",
       "         2.05017563e+03],\n",
       "       [ 1.00000000e+00,  3.00000000e+00,  9.00000000e+00,\n",
       "         2.70000000e+01,  8.10000000e+01,  2.43000000e+02,\n",
       "         7.29000000e+02,  2.18700000e+03,  6.56100000e+03,\n",
       "         1.96830000e+04]])"
      ]
     },
     "execution_count": 8,
     "metadata": {},
     "output_type": "execute_result"
    }
   ],
   "source": [
    "def Vandermonde(x):\n",
    "    M = np.zeros((x.size, x.size))\n",
    "    for i in range(x.size):\n",
    "        for j in range(x.size):\n",
    "            M[i][j] = np.power(x[i],j)\n",
    "    return M\n",
    "Vandermonde(Interp_Equi(-3,3,10))"
   ]
  },
  {
   "cell_type": "markdown",
   "metadata": {},
   "source": [
    " >**À faire :** À l'aide de la fonction **npl.solve**, implémenter une fonction **Methode_directe** qui prend en argument les points d'interpolations $x$ ainsi qu'une fonction $f$ à interpoler et qui rend en sortie un vecteur $a$ qui contient les coefficients du polynôme d'interpolation de $f$ aux points $x$."
   ]
  },
  {
   "cell_type": "code",
   "execution_count": 9,
   "metadata": {},
   "outputs": [
    {
     "name": "stdout",
     "output_type": "stream",
     "text": [
      "[ 9.72046146e-01  9.03633957e-17 -6.74203854e-01 -2.71923248e-16\n",
      "  2.36044625e-01  4.31346500e-16 -3.57352941e-02 -1.22640117e-16\n",
      "  1.84837728e-03  8.66064998e-18]\n"
     ]
    }
   ],
   "source": [
    "def f(x):\n",
    "    return 1./(1+x**2)\n",
    "\n",
    "def Methode_directe(x,f):\n",
    "    return npl.solve(Vandermonde(x), f(x))\n",
    "\n",
    "print(Methode_directe(Interp_Equi(-3,3,10),Runge))"
   ]
  },
  {
   "cell_type": "markdown",
   "metadata": {},
   "source": [
    " >**À faire :** Grâce aux fonctions **PtsInterp_Equi** et **Methode_directe**, tracer sur une même figure la fonction **Runge** sur l'intervalle $[-3,3]$ ainsi que son polynôme d'interpolation pour $5$, $10$ et $15$ points d'interpolation."
   ]
  },
  {
   "cell_type": "code",
   "execution_count": 10,
   "metadata": {},
   "outputs": [
    {
     "data": {
      "text/plain": [
       "[<matplotlib.lines.Line2D at 0x7f46524b41c0>]"
      ]
     },
     "execution_count": 10,
     "metadata": {},
     "output_type": "execute_result"
    },
    {
     "data": {
      "image/png": "[encoded data removed]",
      "text/plain": [
       "<Figure size 640x480 with 1 Axes>"
      ]
     },
     "metadata": {},
     "output_type": "display_data"
    }
   ],
   "source": [
    "def eval_poly(coeff,x):\n",
    "    res = 0\n",
    "    for i in range(coeff.size):\n",
    "        res += coeff[i]*np.power(x,i)\n",
    "    return res\n",
    "    \n",
    "nbpt = 20\n",
    "x = Interp_Equi(-3,3,nbpt)\n",
    "x_prec = Interp_Equi(-3,3,nbpt*10)\n",
    "p = Methode_directe(x,Runge)\n",
    "plt.plot(x_prec, Runge(x_prec))\n",
    "plt.plot(x_prec, eval_poly(p,x_prec))"
   ]
  },
  {
   "cell_type": "markdown",
   "metadata": {},
   "source": [
    "### Méthode de Lagrange"
   ]
  },
  {
   "cell_type": "markdown",
   "metadata": {
    "collapsed": true
   },
   "source": [
    "Nous avons vu dans le cours que le polynôme d'interpolation de Lagrange peut être calculé par la méthode de Lagrange. Cette méthode consiste à trouver une base de polynômes, qui sont les polynômes de Lagrange, dans laquelle on exprime le polynôme d'interpolation. Étant donné une fonction $f$ et un ensemble $(x_j)_{0\\leq j\\leq n}$ de points d'interpolation, le polynôme d'interpolation $p$ s'exprime comme\n",
    "$$\n",
    "p(x) = \\sum_{j = 0}^{n} f(x_j) L_{j,n}(x), \\quad \\forall x \\in \\mathbb{R},\n",
    "$$\n",
    "avec $(L_{j,n})_{0\\leq j\\leq n}$ la base de polynôme de Lagrange donnée par\n",
    "$$\n",
    "L_{j,n}(x) = \\prod_{\\substack{k = 0\\\\k\\neq j}}^{n} \\dfrac{x-x_k}{x_j-x_k}.\n",
    "$$\n",
    "\n",
    " >**À faire :** Écrire une fonction **Methode_Lagrange** qui implémente la méthode précédente avec en arguments d'entrée un vecteur $x\\_interp$ de points d'interpolation et un vecteur $x$ de points d'abscisse. Cette fonction returnera la matrice $L$ dont chaque colonne correspond au vecteur $\\ell_i = L_{i,n}(x)$. \n",
    " \n",
    "On obtient alors le vecteur  $y = p(x)$ grâce au produit matrice-vecteur $y = Lz$ où $z = f(x\\_interp)$. Le produit matrice-vecteur peut se faire grâce à la fonction **np.dot**."
   ]
  },
  {
   "cell_type": "code",
   "execution_count": 65,
   "metadata": {},
   "outputs": [
    {
     "name": "stdout",
     "output_type": "stream",
     "text": [
      "[[ 1.  0. -0.  0. -0.  0. -0.  0. -0.  0.]\n",
      " [-0.  1.  0. -0.  0. -0.  0. -0.  0. -0.]\n",
      " [ 0. -0.  1.  0. -0.  0. -0.  0. -0.  0.]\n",
      " [-0.  0. -0.  1.  0. -0.  0. -0.  0. -0.]\n",
      " [ 0. -0.  0. -0.  1.  0. -0.  0. -0.  0.]\n",
      " [-0.  0. -0.  0. -0.  1.  0. -0.  0. -0.]\n",
      " [ 0. -0.  0. -0.  0. -0.  1.  0. -0.  0.]\n",
      " [-0.  0. -0.  0. -0.  0. -0.  1.  0. -0.]\n",
      " [ 0. -0.  0. -0.  0. -0.  0. -0.  1.  0.]\n",
      " [-0.  0. -0.  0. -0.  0. -0.  0. -0.  1.]]\n"
     ]
    }
   ],
   "source": [
    "def Methode_Lagrange(x_interp,x):\n",
    "    if x_interp.size > x.size :\n",
    "        raise Exception(\"x_interp has to be shorter than x\")\n",
    "        \n",
    "    L = np.zeros((x_interp.size,x.size))\n",
    "    for j in range(x_interp.size):\n",
    "        produit = np.ones(x.size)\n",
    "        for k in range(x_interp.size):\n",
    "                if k != j:\n",
    "                    produit *= (x-x_interp[k])/(x_interp[j] - x_interp[k])\n",
    "        L[j] = produit\n",
    "    return np.transpose(L)\n",
    "\n",
    "def p(x_interp,x, f):\n",
    "    return np.dot(Methode_Lagrange(x_interp,x), f(x_interp))\n",
    "\n",
    "print(Methode_Lagrange(Interp_Equi(-3,3,10), Interp_Equi(-3,3,10)))\n",
    "z = f(Interp_Equi(-3,3,10))\n",
    "y = 0"
   ]
  },
  {
   "cell_type": "markdown",
   "metadata": {},
   "source": [
    " >**À faire :** Tracer ensuite sur une même figure la fonction **Runge** sur l'intervalle $[-3,3]$ ainsi que son polynôme d'interpolation obtenue avec la méthode de Lagrange pour $5$, $10$ et $15$ points d'interpolation."
   ]
  },
  {
   "cell_type": "code",
   "execution_count": 66,
   "metadata": {},
   "outputs": [
    {
     "data": {
      "text/plain": [
       "[<matplotlib.lines.Line2D at 0x7f464e4f0c70>]"
      ]
     },
     "execution_count": 66,
     "metadata": {},
     "output_type": "execute_result"
    },
    {
     "data": {
      "image/png": "[encoded data removed]",
      "text/plain": [
       "<Figure size 640x480 with 1 Axes>"
      ]
     },
     "metadata": {},
     "output_type": "display_data"
    }
   ],
   "source": [
    "x = Interp_Equi(-3,3, 60)\n",
    "x_interp = Interp_Equi(-3,3,15)\n",
    "plt.plot(x_interp, Runge(x_interp))\n",
    "plt.plot(x, p(x_interp,x, Runge), color='red')"
   ]
  },
  {
   "cell_type": "markdown",
   "metadata": {
    "collapsed": true
   },
   "source": [
    "### Méthode de Newton\n",
    "\n",
    "La méthode de Newton, comme pour celle de Lagrange, permet d'exprimer le polynôme d'interpolation de Lagrange dans une base de polynômes, qui sont les polynômes de Newton. Étant donné une fonction $f$ et un ensemble $(x_j)_{0\\leq j\\leq n}$ de points d'interpolation, le polynôme d'interpolation $p$ s'exprime comme\n",
    "$$\n",
    "p(x) = \\sum_{j = 0}^{n} z_j N_{j,n}(x), \\quad \\forall x \\in \\mathbb{R},\n",
    "$$\n",
    "avec $(N_{j,n})_{0\\leq j\\leq n}$ la base de polynôme de Newton donnée par\n",
    "$$\n",
    "N_{j,n}(x) = \\prod_{k = 0}^{j} (x-x_k),\n",
    "$$\n",
    "et $(z_j)_{0\\leq j\\leq n}$ les coefficients qui sont solution du système triangulaire\n",
    "$$\n",
    "\\left[ \n",
    "\\begin{array}{cccccc}\n",
    "1 & 0 & 0  &  \\cdots & 0 \\\\ \n",
    "1  & (x_1-x_0) & 0  & \\cdots   & 0 \\\\ \n",
    "1  & (x_2-x_0) & (x_2-x_0)(x_2-x_1) & \\ddots   & \\vdots \\\\ \n",
    "\\vdots & \\vdots &  \\vdots  & \\ddots & 0 \\\\ \n",
    "1 & (x_n-x_0) &  (x_n-x_0)(x_n-x_1) & \\cdots & \\prod_{j = 0}^{n-1}(x_n-x_j)\n",
    "\\end{array}\n",
    "\\right]\\left[\\begin{array}{c}z_0\\\\ z_1\\\\ \\vdots \\\\ z_n \\end{array}\\right] = \\left[\\begin{array}{c}y_0\\\\ y_1\\\\ \\vdots \\\\ y_n \\end{array}\\right].\n",
    "$$\n",
    "\n",
    " >**À faire :** Écrire une fonction **Methode_Newton** qui implémente la méthode précédente avec en arguments d'entrée un vecteur $x\\_interp$ de points d'interpolation et un vecteur $x$ de points d'abscisse. Cette fonction returnera la matrice $N$ dont chaque colonne correspond au vecteur $n_i = N_{i,n}(x)$. "
   ]
  },
  {
   "cell_type": "code",
   "execution_count": 76,
   "metadata": {},
   "outputs": [
    {
     "name": "stdout",
     "output_type": "stream",
     "text": [
      "[[ 1.00000000e+00  0.00000000e+00 -0.00000000e+00  0.00000000e+00\n",
      "  -0.00000000e+00  0.00000000e+00 -0.00000000e+00  0.00000000e+00\n",
      "  -0.00000000e+00  0.00000000e+00 -0.00000000e+00  0.00000000e+00\n",
      "  -0.00000000e+00  0.00000000e+00 -0.00000000e+00]\n",
      " [ 1.00000000e+00  1.01694915e-01 -3.32416793e-02  2.51123582e-02\n",
      "  -2.97335186e-02  4.79479985e-02 -9.78696434e-02  2.41711952e-01\n",
      "  -7.00554980e-01  2.33065991e+00 -8.75267196e+00  3.66213490e+01\n",
      "  -1.68919298e+02  8.51549582e+02 -4.65774941e+03]\n",
      " [ 1.00000000e+00  2.03389831e-01 -4.57996471e-02  2.99416579e-02\n",
      "  -3.24065886e-02  4.89629813e-02 -9.49621017e-02  2.24873936e-01\n",
      "  -6.28884735e-01  2.02826748e+00 -7.41078843e+00  3.02532428e+01\n",
      "  -1.36469229e+02  6.74085294e+02 -3.61851597e+03]\n",
      " [ 1.00000000e+00  3.05084746e-01 -3.76739032e-02  2.07981839e-02\n",
      "  -2.03953135e-02  2.87410955e-02 -5.28195920e-02  1.19707356e-01\n",
      "  -3.22601180e-01  1.00764049e+00 -3.57919758e+00  1.42474596e+01\n",
      "  -6.28199127e+01  3.03908439e+02 -1.60048633e+03]\n",
      " [ 1.00000000e+00  4.06779661e-01 -8.86444782e-03  3.99222105e-03\n",
      "  -3.50890131e-03  4.58790971e-03 -7.96496673e-03  1.72413565e-02\n",
      "  -4.47106365e-02  1.35106233e-01 -4.66165575e-01  1.80822579e+00\n",
      "  -7.78894353e+00  3.68890401e+01 -1.90518941e+02]\n",
      " [ 1.00000000e+00  5.08474576e-01  4.06287192e-02 -1.41659457e-02\n",
      "   1.10103355e-02 -1.32763852e-02  2.16986925e-02 -4.47634043e-02\n",
      "   1.11529160e-01 -3.25675949e-01  1.09058072e+00 -4.11938480e+00\n",
      "   1.73253545e+01 -8.02923208e+01  4.06516326e+02]\n",
      " [ 1.00000000e+00  6.10169492e-01  1.10805598e-01 -2.73660314e-02\n",
      "   1.84869801e-02 -2.04117746e-02  3.12848748e-02 -6.13577449e-02\n",
      "   1.46634611e-01 -4.13275271e-01  1.34189380e+00 -4.93219076e+00\n",
      "   2.02422841e+01 -9.17519512e+01  4.55205201e+02]\n",
      " [ 1.00000000e+00  7.11864407e-01  2.01666188e-01 -2.92977513e-02\n",
      "   1.68125110e-02 -1.68532193e-02  2.41168344e-02 -4.48468009e-02\n",
      "   1.02615561e-01 -2.78776416e-01  8.76829455e-01 -3.13365684e+00\n",
      "   1.25422149e+01 -5.55744632e+01  2.70067670e+02]\n",
      " [ 1.00000000e+00  8.13559322e-01  3.13210490e-01 -1.36508204e-02\n",
      "   6.44530260e-03 -5.80545415e-03  7.71717756e-03 -1.35657891e-02\n",
      "   2.96607932e-02 -7.75633332e-02  2.36070484e-01 -8.19673302e-01\n",
      "   3.19732128e+00 -1.38421561e+01  6.58591687e+01]\n",
      " [ 1.00000000e+00  9.15254237e-01  4.45438503e-01  2.58850462e-02\n",
      "  -9.58937546e-03  7.66221284e-03 -9.40615474e-03  1.55782321e-02\n",
      "  -3.24766533e-02  8.16241310e-02 -2.40129102e-01  8.09345545e-01\n",
      "  -3.07472920e+00  1.29987341e+01 -6.05243721e+01]\n",
      " [ 1.00000000e+00  1.01694915e+00  5.98350228e-01  9.56201333e-02\n",
      "  -2.56993578e-02  1.79211018e-02 -2.01775118e-02  3.13655268e-02\n",
      "  -6.21994344e-02  1.50001542e-01 -4.26033434e-01  1.39260323e+00\n",
      "  -5.14892286e+00  2.12439820e+01 -9.67552786e+01]\n",
      " [ 1.00000000e+00  1.11864407e+00  7.71945664e-01  2.01864726e-01\n",
      "  -3.37255837e-02  2.00883622e-02 -2.05747632e-02  2.98906972e-02\n",
      "  -5.62350405e-02  1.29898859e-01 -3.55727867e-01  1.12661513e+00\n",
      "  -4.05090430e+00  1.63017020e+01 -7.25879662e+01]\n",
      " [ 1.00000000e+00  1.22033898e+00  9.66224812e-01  3.50929109e-01\n",
      "  -2.29420967e-02  1.13321737e-02 -1.04541360e-02  1.41244743e-02\n",
      "  -2.51367763e-02  5.55078450e-02 -1.46363301e-01  4.48658447e-01\n",
      "  -1.56758872e+00  6.14889520e+00 -2.67543939e+01]\n",
      " [ 1.00000000e+00  1.32203390e+00  1.18118767e+00  5.49123567e-01\n",
      "   1.99439552e-02 -7.82305265e-03  6.42134346e-03 -8.02279231e-03\n",
      "   1.34619735e-02 -2.83581525e-02  7.18910064e-02 -2.13061966e-01\n",
      "   7.22759840e-01 -2.76153760e+00  1.17348632e+01]\n",
      " [ 1.00000000e+00  1.42372881e+00  1.41683424e+00  8.02758385e-01\n",
      "   1.10792319e-01 -3.21914730e-02  2.31498002e-02 -2.65690200e-02\n",
      "   4.18799808e-02 -8.39627701e-02  2.04316184e-01 -5.84749950e-01\n",
      "   1.92415298e+00 -7.15617187e+00  2.96816523e+01]\n",
      " [ 1.00000000e+00  1.52542373e+00  1.67316453e+00  1.11814385e+00\n",
      "   2.68029639e-01 -5.06206098e-02  3.12548559e-02 -3.26927307e-02\n",
      "   4.82079249e-02 -9.17468013e-02  2.13927772e-01 -5.90502808e-01\n",
      "   1.88303196e+00 -6.81174272e+00  2.75603440e+01]\n",
      " [ 1.00000000e+00  1.62711864e+00  1.95017852e+00  1.50159024e+00\n",
      "   5.12649453e-01 -4.46861508e-02  2.30463683e-02 -2.17629144e-02\n",
      "   2.98778995e-02 -5.38236252e-02  1.20027987e-01 -3.19105884e-01\n",
      "   9.85133177e-01 -3.46347064e+00  1.36610016e+01]\n",
      " [ 1.00000000e+00  1.72881356e+00  2.24787623e+00  1.95940785e+00\n",
      "   8.68212194e-01  1.26132522e-02 -5.22243615e-03  4.40050310e-03\n",
      "  -5.59385987e-03  9.50820733e-03 -2.02365962e-02  5.17429676e-02\n",
      "  -1.54477189e-01  5.27391856e-01 -2.02656386e+00]\n",
      " [ 1.00000000e+00  1.83050847e+00  2.56625764e+00  2.49790696e+00\n",
      "   1.36084519e+00  1.58161185e-01 -4.94014354e-02  3.66025163e-02\n",
      "  -4.28063326e-02  6.84072144e-02 -1.38636413e-01  3.40380926e-01\n",
      "  -9.81582768e-01  3.25134437e+00 -1.21630195e+01]\n",
      " [ 1.00000000e+00  1.93220339e+00  2.90532277e+00  3.12339785e+00\n",
      "   2.01924268e+00  4.40028670e-01 -9.26936909e-02  5.92521414e-02\n",
      "  -6.32692357e-02  9.46740621e-02 -1.82241839e-01  4.28908153e-01\n",
      "  -1.19325779e+00  3.83113761e+00 -1.39423725e+01]\n",
      " [ 1.00000000e+00  2.03389831e+00  3.26507161e+00  3.84219081e+00\n",
      "   2.87466576e+00  9.18779372e-01 -1.00109133e-01  5.38116887e-02\n",
      "  -5.19875636e-02  7.25056578e-02 -1.32195546e-01  2.97680042e-01\n",
      "  -7.97897836e-01  2.48063153e+00 -8.77530912e+00]\n",
      " [ 1.00000000e+00  2.13559322e+00  3.64550417e+00  4.66059612e+00\n",
      "   3.96094247e+00  1.66877479e+00 -1.21218508e-02  5.28313110e-03\n",
      "  -4.56677434e-03  5.90473970e-03 -1.01653025e-02  2.18566310e-02\n",
      "  -5.63615304e-02  1.69493997e-01 -5.82353466e-01]\n",
      " [ 1.00000000e+00  2.23728814e+00  4.04662043e+00  5.58492408e+00\n",
      "   5.31446771e+00  2.77947948e+00  2.62469006e-01 -8.77015082e-02\n",
      "   6.68909808e-02 -7.96861079e-02  1.29079918e-01 -2.64410680e-01\n",
      "   6.54944614e-01 -1.90298677e+00  6.34482514e+00]\n",
      " [ 1.00000000e+00  2.33898305e+00  4.46842040e+00  6.62148496e+00\n",
      "   6.97420329e+00  4.35676622e+00  8.54474730e-01 -1.98618823e-01\n",
      "   1.31290409e-01 -1.43052503e-01  2.17176561e-01 -4.22784395e-01\n",
      "   1.00424090e+00 -2.81576504e+00  9.10180708e+00]\n",
      " [ 1.00000000e+00  2.44067797e+00  4.91090409e+00  7.77658905e+00\n",
      "   8.98167791e+00  6.52422124e+00  1.94304894e+00 -2.54054825e-01\n",
      "   1.42098462e-01 -1.40378141e-01  1.98840708e-01 -3.66868329e-01\n",
      "   8.34114675e-01 -2.25392731e+00  7.05648428e+00]\n",
      " [ 1.00000000e+00  2.54237288e+00  5.37407149e+00  9.05654663e+00\n",
      "   1.13809872e+01  9.42444942e+00  3.76521587e+00 -1.09400945e-01\n",
      "   5.00648394e-02 -4.43673880e-02  5.83329096e-02 -1.01694177e-01\n",
      "   2.20870887e-01 -5.74371266e-01  1.73980255e+00]\n",
      " [ 1.00000000e+00  2.64406780e+00  5.85792260e+00  1.04676680e+01\n",
      "   1.42187936e+01  1.32203795e+01  6.62619505e+00  4.81321674e-01\n",
      "  -1.71317884e-01  1.34399502e-01 -1.63036684e-01  2.67648600e-01\n",
      "  -5.54090928e-01  1.38455651e+00 -4.05309641e+00]\n",
      " [ 1.00000000e+00  2.74576271e+00  6.36245742e+00  1.20162634e+01\n",
      "   1.75443265e+01  1.80965692e+01  1.09105224e+01  1.90207654e+00\n",
      "  -4.83578780e-01  3.30191806e-01 -3.66968618e-01  5.65113901e-01\n",
      "  -1.11243971e+00  2.66662304e+00 -7.53498568e+00]\n",
      " [ 1.00000000e+00  2.84745763e+00  6.88767596e+00  1.37086432e+01\n",
      "   2.14093822e+01  2.42605106e+01  1.70939675e+01  4.71843171e+00\n",
      "  -7.19760769e-01  4.18262917e-01 -4.22313889e-01  6.07395763e-01\n",
      "  -1.13390347e+00  2.60276148e+00 -7.08984664e+00]\n",
      " [ 1.00000000e+00  2.94915254e+00  7.43357820e+00  1.55511176e+01\n",
      "   2.58683239e+01  3.19439351e+01  2.57562479e+01  9.72875225e+00\n",
      "  -4.94682318e-01  2.37160046e-01 -2.15339025e-01  2.87813902e-01\n",
      "  -5.08029866e-01  1.11446745e+00 -2.92244129e+00]\n",
      " [ 1.00000000e+00  3.05084746e+00  8.00016416e+00  1.75499969e+01\n",
      "   3.09780817e+01  4.14041189e+01  3.75945390e+01  1.80235320e+01\n",
      "   9.16450779e-01 -3.46165428e-01  2.79111592e-01 -3.44665646e-01\n",
      "   5.73330021e-01 -1.19941196e+00  3.02321513e+00]\n",
      " [ 1.00000000e+00  3.15254237e+00  8.58743382e+00  1.97115914e+01\n",
      "   3.67981525e+01  5.29251879e+01  5.34377805e+01  3.10534318e+01\n",
      "   4.73696417e+00 -1.30753975e+00  9.21293139e-01 -1.04398351e+00\n",
      "   1.63043429e+00 -3.24507746e+00  7.84947307e+00]\n",
      " [ 1.00000000e+00  3.25423729e+00  9.19538720e+00  2.20422115e+01\n",
      "   4.33906003e+01  6.68194232e+01  7.42617803e+01  5.07065909e+01\n",
      "   1.28915062e+01 -2.24742964e+00  1.35498785e+00 -1.39763880e+00\n",
      "   2.04062033e+00 -3.85395607e+00  8.93035340e+00]\n",
      " [ 1.00000000e+00  3.35593220e+00  9.82402430e+00  2.45481672e+01\n",
      "   5.08200557e+01  8.34285660e+01  1.01205113e+02  7.93957785e+01\n",
      "   2.82595144e+01 -2.05274923e+00  1.02885978e+00 -9.56615391e-01\n",
      "   1.29942188e+00 -2.32196936e+00  5.14431468e+00]\n",
      " [ 1.00000000e+00  3.45762712e+00  1.04733451e+01  2.72357691e+01\n",
      "   5.91537164e+01  1.03125123e+02  1.35585816e+02  1.20155953e+02\n",
      "   5.49866224e+01  1.59767426e+00 -6.38296012e-01  5.28564736e-01\n",
      "  -6.64225419e-01  1.11937262e+00 -2.36613147e+00]\n",
      " [ 1.00000000e+00  3.55932203e+00  1.11433496e+01  3.01113273e+01\n",
      "   6.84613470e+01  1.26313672e+02  1.78918881e+02  1.76752793e+02\n",
      "   9.88617317e+01  1.29262313e+01 -3.84970084e+00  2.79639286e+00\n",
      "  -3.22973219e+00  5.11439432e+00 -1.02907062e+01]\n",
      " [ 1.00000000e+00  3.66101695e+00  1.18340378e+01  3.31811521e+01\n",
      "   7.88152790e+01  1.53432165e+02  2.32934546e+02  2.53802775e+02\n",
      "   1.67767936e+02  3.89969051e+01 -7.64830343e+00  4.77787478e+00\n",
      "  -5.03238627e+00  7.45719225e+00 -1.42463067e+01]\n",
      " [ 1.00000000e+00  3.76271186e+00  1.25454098e+01  3.64515538e+01\n",
      "   9.02904106e+01  1.84953238e+02  2.99597376e+02  3.56905349e+02\n",
      "   2.72215944e+02  9.09583541e+01 -8.58928768e+00  4.49221825e+00\n",
      "  -4.27467742e+00  5.89967586e+00 -1.06708423e+01]\n",
      " [ 1.00000000e+00  3.86440678e+00  1.32774654e+01  3.99288428e+01\n",
      "   1.02964207e+02  2.21385511e+02  3.81126145e+02  4.92787801e+02\n",
      "   4.25969116e+02  1.85652399e+02  1.34856464e+00 -5.68160406e-01\n",
      "   4.82867561e-01 -6.17322209e-01  1.05378246e+00]\n",
      " [ 1.00000000e+00  3.96610169e+00  1.40302048e+01  4.36193292e+01\n",
      "   1.16916701e+02  2.63274895e+02  4.80014518e+02  6.69463347e+02\n",
      "   6.46769674e+02  3.47658275e+02  3.78804416e+01 -1.21070661e+01\n",
      "   9.05831337e+00 -1.06594196e+01  1.71118528e+01]\n",
      " [ 1.00000000e+00  4.06779661e+00  1.48036279e+01  4.75293233e+01\n",
      "   1.32230490e+02  3.11205900e+02  5.99052519e+02  8.96403043e+02\n",
      "   9.57176131e+02  6.11851086e+02  1.28888728e+02 -2.80871319e+01\n",
      "   1.81580247e+01 -1.95209758e+01  2.93523631e+01]\n",
      " [ 1.00000000e+00  4.16949153e+00  1.55977346e+01  5.16651356e+01\n",
      "   1.48990742e+02  3.65802936e+02  7.41348807e+02  1.18472206e+03\n",
      "   1.38552241e+03  1.02656140e+03  3.20645086e+02 -3.72662570e+01\n",
      "   2.03024403e+01 -1.97616973e+01  2.77046555e+01]\n",
      " [ 1.00000000e+00  4.27118644e+00  1.64125251e+01  5.60330761e+01\n",
      "   1.67285189e+02  4.27731620e+02  9.10353739e+02  1.54738093e+03\n",
      "   1.96700966e+03  1.65743187e+03  6.86249030e+02 -9.96971956e+00\n",
      "   4.41757549e+00 -3.85067113e+00  5.00680484e+00]\n",
      " [ 1.00000000e+00  4.37288136e+00  1.72479993e+01  6.06394553e+01\n",
      "   1.87204130e+02  4.97700083e+02  1.10988324e+03  1.99940225e+03\n",
      "   2.74494207e+03  2.59207604e+03  1.33683341e+03  1.16527852e+02\n",
      "  -3.97831164e+01  3.06320363e+01 -3.67139419e+01]\n",
      " [ 1.00000000e+00  4.47457627e+00  1.81041573e+01  6.54905834e+01\n",
      "   2.08840432e+02  5.76460272e+02  1.34414344e+03  2.55810350e+03\n",
      "   3.77211872e+03  3.94565445e+03  2.43617890e+03  4.60101584e+02\n",
      "  -1.10290694e+02  7.37051614e+01 -8.08436758e+01]\n",
      " [ 1.00000000e+00  4.57627119e+00  1.89809989e+01  7.05927707e+01\n",
      "   2.32289529e+02  6.64809257e+02  1.61775618e+03  3.24334653e+03\n",
      "   5.11239369e+03  5.86749300e+03  4.21948044e+03  1.22599916e+03\n",
      "  -1.69205695e+02  9.58695705e+01 -9.54053111e+01]\n",
      " [ 1.00000000e+00  4.67796610e+00  1.98785242e+01  7.59523275e+01\n",
      "   2.57649421e+02  7.63590535e+02  1.93578521e+03  4.07780419e+03\n",
      "   6.84241720e+03  8.54887960e+03  7.01711909e+03  2.75247771e+03\n",
      "  -9.99689239e+01  4.64746571e+01 -4.15233619e+01]\n",
      " [ 1.00000000e+00  4.77966102e+00  2.07967333e+01  8.15755640e+01\n",
      "   2.85020675e+02  8.73695338e+02  2.30376325e+03  5.08724476e+03\n",
      "   9.05357119e+03  1.22321858e+04  1.12844135e+04  5.57389916e+03\n",
      "   3.64395345e+02 -1.32346978e+02  1.04788043e+02]\n",
      " [ 1.00000000e+00  4.88135593e+00  2.17356261e+01  8.74687906e+01\n",
      "   3.14506426e+02  9.96063935e+02  2.72771988e+03  6.30083479e+03\n",
      "   1.18541129e+04  1.72214715e+04  1.76384563e+04  1.05061992e+04\n",
      "   1.75527298e+03 -4.59006010e+02  3.16747489e+02]\n",
      " [ 1.00000000e+00  4.98305085e+00  2.26952025e+01  9.36383175e+01\n",
      "   3.46212375e+02  1.13168694e+03  3.21421012e+03  7.75146073e+03\n",
      "   1.53715408e+04  2.38947437e+04  2.69032829e+04  1.87606428e+04\n",
      "   5.04220666e+03 -8.05776367e+02  4.74100865e+02]\n",
      " [ 1.00000000e+00  5.08474576e+00  2.36754627e+01  1.00090455e+02\n",
      "   3.80246789e+02  1.28160661e+03  3.77034390e+03  9.47607015e+03\n",
      "   1.97551971e+04  3.27180504e+04  4.01647737e+04  3.20929185e+04\n",
      "   1.18891441e+04 -6.90894574e+02  3.36246512e+02]\n",
      " [ 1.00000000e+00  5.18644068e+00  2.46764066e+01  1.06831513e+02\n",
      "   4.16720504e+02  1.44691817e+03  4.40381631e+03  1.15160330e+04\n",
      "   2.51791229e+04  4.42616059e+04  5.88368562e+04  5.29959092e+04\n",
      "   2.50222816e+04  1.09055949e+03 -4.19852200e+02]\n",
      " [ 1.00000000e+00  5.28813559e+00  2.56980342e+01  1.13867803e+02\n",
      "   4.55746921e+02  1.62877108e+03  5.12293857e+03  1.39175232e+04\n",
      "   3.18451802e+04  5.92181559e+04  8.47407509e+04  8.49459343e+04\n",
      "   4.87462141e+04  7.08177445e+03 -2.00621698e+03]\n",
      " [ 1.00000000e+00  5.38983051e+00  2.67403455e+01  1.21205634e+02\n",
      "   4.97442009e+02  1.82837039e+03  5.93666995e+03  1.67319221e+04\n",
      "   3.99864579e+04  7.84238035e+04  1.20199195e+05  1.32713881e+05\n",
      "   8.96541717e+04  2.21421925e+04 -4.02097927e+03]\n",
      " [ 1.00000000e+00  5.49152542e+00  2.78033406e+01  1.28851317e+02\n",
      "   5.41924304e+02  2.04697800e+03  6.85465030e+03  2.00162428e+04\n",
      "   4.98709777e+04  1.02881533e+05  1.68147784e+05  2.02754470e+05\n",
      "   1.57588826e+05  5.49462249e+04 -4.39037632e+03]\n",
      " [ 1.00000000e+00  5.59322034e+00  2.88870193e+01  1.36811162e+02\n",
      "   5.89314907e+02  2.28591400e+03  7.88723353e+03  2.38335774e+04\n",
      "   6.18057176e+04  1.33787679e+05  2.32265777e+05  3.03688910e+05\n",
      "   2.66922698e+05  1.20212159e+05  2.61963543e+03]\n",
      " [ 1.00000000e+00  5.69491525e+00  2.99913818e+01  1.45091479e+02\n",
      "   6.39737490e+02  2.54655795e+03  9.04552182e+03  2.82535669e+04\n",
      "   7.61409685e+04  1.72561614e+05  3.17128971e+05  4.46898453e+05\n",
      "   4.38241824e+05  2.41934954e+05  2.98757449e+04]\n",
      " [ 1.00000000e+00  5.79661017e+00  3.11164280e+01  1.53698579e+02\n",
      "   6.93318286e+02  2.83035020e+03  1.03414006e+04  3.33528949e+04\n",
      "   9.32750450e+04  2.20878920e+05  4.28387446e+05  6.47248828e+05\n",
      "   7.00533236e+05  4.57975723e+05  1.03127705e+05]\n",
      " [ 1.00000000e+00  5.89830508e+00  3.22621578e+01  1.62638771e+02\n",
      "   7.50186101e+02  3.13879318e+03  1.17875744e+04  3.92158043e+04\n",
      "   1.13659365e+05  2.80708359e+05  5.72971300e+05  9.23968247e+05\n",
      "   1.09399630e+06  8.26457255e+05  2.70149466e+05]\n",
      " [ 1.00000000e+00  6.00000000e+00  3.34285714e+01  1.71918367e+02\n",
      "   8.10472303e+02  3.47345273e+03  1.33976034e+04  4.59346402e+04\n",
      "   1.37803920e+05  3.54352938e+05  7.59327725e+05  1.30170467e+06\n",
      "   1.67362029e+06  1.43453168e+06  6.14799291e+05]]\n"
     ]
    }
   ],
   "source": [
    "def Methode_Newton(x_interp,x):\n",
    "    if x_interp.size > x.size:\n",
    "        raise Exception(\"x_interp should be shorter than x\")\n",
    "    N = np.zeros((x_interp.size, x.size))\n",
    "    for i in range(x_interp.size):\n",
    "        res = np.ones(x.size)\n",
    "        for j in range(i):\n",
    "            res *= x - x_interp[j]\n",
    "        N[i] = res\n",
    "    return np.transpose(N)\n",
    "print(Methode_Newton(x_interp,x))"
   ]
  },
  {
   "cell_type": "markdown",
   "metadata": {},
   "source": [
    ">**À faire :** Écrire une fonction **Coeff_Newton** qui permet de calculer les coefficients $(z_j)_{0\\leq j\\leq n}$ en résolvant le système triangulaire inférieur par un algorithme de descente. Cette fonction prendra en entrée le vecteur $x\\_interp$ des points d'interpolation ainsi que la fonction $f$ à interpoler et rendra le vecteur $z$ des coefficients."
   ]
  },
  {
   "cell_type": "code",
   "execution_count": 90,
   "metadata": {},
   "outputs": [
    {
     "name": "stdout",
     "output_type": "stream",
     "text": [
      "[ 0.1         0.13846154  0.10769231 -0.09230769  0.03076923]\n"
     ]
    }
   ],
   "source": [
    "def Coeff_Newton(x_interp,f):\n",
    "    M = np.zeros((x_interp.size, x_interp.size))\n",
    "    for k in range(x_interp.size):\n",
    "        for i in range(k+1):\n",
    "            if i == 0:\n",
    "                M[k][i] = 1\n",
    "            else:\n",
    "                M[k][i] = M[k][i-1] * (x_interp[k] - x_interp[i-1])\n",
    "    y = f(x_interp)\n",
    "    return npl.solve(M,y)\n",
    "\n",
    "x_interp=Interp_Equi(-3,3,5)\n",
    "print(Coeff_Newton(x_interp, Runge))"
   ]
  },
  {
   "cell_type": "markdown",
   "metadata": {},
   "source": [
    "On obtient alors le vecteur  $y = p(x)$ grâce au produit matrice-vecteur $y = Lz$.\n",
    "\n",
    ">**À faire :** Tracer ensuite sur une même figure la fonction **Runge** sur l'intervalle $[-3,3]$ ainsi que son polynôme d'interpolation obtenue avec la méthode de Newton pour $5$, $10$ et $15$ points d'interpolation."
   ]
  },
  {
   "cell_type": "code",
   "execution_count": 116,
   "metadata": {},
   "outputs": [],
   "source": [
    "def Newton(x_interp, x , f):\n",
    "    N = Methode_Newton(x_interp, x)\n",
    "    z = Coeff_Newton(x_interp, f)\n",
    "    res = np.zeros(x.size)\n",
    "    for i in range(x.size):\n",
    "        for j in range(z.size):\n",
    "            res[i] += z[j]*N[i][j]        \n",
    "    return res\n",
    "        \n",
    "def Test_Newton(Interp, n, m, f):\n",
    "    x = Interp(-3,3,m)\n",
    "    x_interp = Interp(-3,3,n)\n",
    "    plt.plot(x_interp, Runge(x_interp))\n",
    "    plt.plot(x, Newton(x_interp,x, Runge) )"
   ]
  },
  {
   "cell_type": "markdown",
   "metadata": {},
   "source": [
    "### Points d'interpolation de Chebyshev"
   ]
  },
  {
   "cell_type": "markdown",
   "metadata": {},
   "source": [
    "Les points de Chebyshev dans l'intervalle $[-1,1]$ sont donnés par la formule suivante\n",
    "$$\n",
    "y_j = \\cos\\left(\\dfrac{2i+1}{2(n+1)}\\pi\\right), \n",
    "\\quad 0\\leq j\\leq n.\n",
    "$$\n",
    "Afin d'adapter ces points à un intervalle $[a,b]$, on se basera sur la formule suivante\n",
    "$$\n",
    "x_j = \\frac{a+b}2 + \\frac{a-b}2 y_j,\n",
    "\\quad 0\\leq j\\leq n.\n",
    "$$\n",
    "\n",
    ">**À faire :** Implémenter une fonction **Interp_Chebyshev** qui prend en arguments d'entrée les valeurs $a$ et $b$ (qui définissent l'intervalle d'interpolation) ainsi que $m$ de manière à retourner un vecteur $x$ de $m$ points d'interpolations répartis selon les points de Chebyshev sur $[a,b]$. "
   ]
  },
  {
   "cell_type": "code",
   "execution_count": 118,
   "metadata": {},
   "outputs": [],
   "source": [
    "def Interp_Chebyshev(a,b,m):\n",
    "    x = np.zeros(m)\n",
    "    for i in range(m):\n",
    "        x[i] = (a + b) / 2 + (a-b)*np.cos( (2*i+1) *np.pi / (2*(m+1)))/2\n",
    "    return x"
   ]
  },
  {
   "cell_type": "markdown",
   "metadata": {
    "collapsed": true
   },
   "source": [
    ">**À faire :** Tracer ensuite sur une même figure la fonction **Runge** sur l'intervalle $[-3,3]$ ainsi que son polynôme d'interpolation obtenue avec la méthode de Newton pour $5$, $10$ et $15$ points d'interpolation."
   ]
  },
  {
   "cell_type": "code",
   "execution_count": 124,
   "metadata": {},
   "outputs": [
    {
     "data": {
      "image/png": "[encoded data removed]",
      "text/plain": [
       "<Figure size 640x480 with 1 Axes>"
      ]
     },
     "metadata": {},
     "output_type": "display_data"
    }
   ],
   "source": [
    "Test_Newton(Interp_Chebyshev, 15, 60,Runge)"
   ]
  },
  {
   "cell_type": "markdown",
   "metadata": {
    "collapsed": true
   },
   "source": [
    "### Comparaison d'erreur selon la répartition des points d'interpolation\n",
    "\n",
    "Nous sommes à présent en mesure de quantifier numériquement la réduction de l'erreur qu'apporte la répartition suivant les points de Chebyshev en comparaison avec les points équirépartis. On introduit pour cela l'erreur\n",
    "$$\n",
    "e(n) = \\sup_{x\\in[-3,3]} |f(x) - p(x)|,\n",
    "$$\n",
    "où $f$ est la fonction à interpoler et $p$ est le polynôme d'interpolation de Lagrange de degré $n$. On veut comparer l'évolution de l'erreur en fonction de $n$ et du choix de la répartition des points d'interpolation.\n",
    "\n",
    ">**À faire :** Écrire une fonction **Erreur_Interp** permettant de calculer l'erreur $e(n)$ dans le cas de points d'interpolation équirépartis et le cas des points de Chebyshev. Cette fonction prendra en entrée l'entier $n$ ainsi qu'un entier $p$ et donnera en sortie un scalaire correspondant à l'erreur $e(n)$ pour les points équirépartis si $p = 0$ ou pour les points de Chebyshev si $p = 1$. L'interpolation se fera à l'aide de la méthode de Newton sur l'intervalle $[-3,3]$."
   ]
  },
  {
   "cell_type": "code",
   "execution_count": 147,
   "metadata": {},
   "outputs": [
    {
     "name": "stdout",
     "output_type": "stream",
     "text": [
      "1.6112129656837364\n",
      "0.15440399971357058\n"
     ]
    }
   ],
   "source": [
    "def Erreur_Interp(n,p):\n",
    "    m = 5\n",
    "    if p == 0:\n",
    "        x = Interp_Equi(-3,3,m*n)\n",
    "        x_interp = Interp_Equi(-3,3,n)\n",
    "    else:\n",
    "        x = Interp_Chebyshev(-3,3,m*n)\n",
    "        x_interp = Interp_Chebyshev(-3,3,n)\n",
    "    return np.abs(Runge(x) - Newton(x_interp, x, Runge)).max()\n",
    "print(Erreur_Interp(10,1))\n",
    "print(Erreur_Interp(10,0))"
   ]
  },
  {
   "cell_type": "markdown",
   "metadata": {},
   "source": [
    ">**À faire :** Tracer sur une même figure l'évolution de l'erreur $\\log(e(n))$, en fonction de $n$, pour les points d'interpolation équirépartis et pour les points de Chebyshev de $1$ jusqu'à $100$ points."
   ]
  },
  {
   "cell_type": "code",
   "execution_count": null,
   "metadata": {},
   "outputs": [],
   "source": [
    "n=1000\n",
    "equi = np.zeros(n)\n",
    "cheb = np.zeros(n)\n",
    "\n",
    "for i in range(2,n) :\n",
    "    equi[i] = Erreur_Interp(i,0)\n",
    "    cheb[i] = Erreur_Interp(i,1)\n",
    "plt.plot(np.log(equi), color='blue')\n",
    "plt.plot(np.log(cheb), color='red')"
   ]
  },
  {
   "cell_type": "code",
   "execution_count": null,
   "metadata": {},
   "outputs": [],
   "source": []
  }
 ],
 "metadata": {
  "anaconda-cloud": {},
  "kernelspec": {
   "display_name": "Python 3 (ipykernel)",
   "language": "python",
   "name": "python3"
  },
  "language_info": {
   "codemirror_mode": {
    "name": "ipython",
    "version": 3
   },
   "file_extension": ".py",
   "mimetype": "text/x-python",
   "name": "python",
   "nbconvert_exporter": "python",
   "pygments_lexer": "ipython3",
   "version": "3.9.12"
  }
 },
 "nbformat": 4,
 "nbformat_minor": 1
}
