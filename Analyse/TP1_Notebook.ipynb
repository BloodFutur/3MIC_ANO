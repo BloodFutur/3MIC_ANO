{
 "cells": [
  {
   "cell_type": "markdown",
   "metadata": {},
   "source": [
    "# Erreurs et stabilité"
   ]
  },
  {
   "cell_type": "markdown",
   "metadata": {},
   "source": [
    "## Importation de packages pour Python"
   ]
  },
  {
   "cell_type": "markdown",
   "metadata": {},
   "source": [
    "On commence par importer les packages mathématiques de Python suivant: Math, Numpy et Matplotlib."
   ]
  },
  {
   "cell_type": "code",
   "execution_count": 1,
   "metadata": {},
   "outputs": [],
   "source": [
    "%matplotlib inline\n",
    "import matplotlib.pyplot as plt\n",
    "import numpy as np\n",
    "import math"
   ]
  },
  {
   "cell_type": "markdown",
   "metadata": {},
   "source": [
    "## Première partie : Erreurs d'arrondi"
   ]
  },
  {
   "cell_type": "markdown",
   "metadata": {},
   "source": [
    "### Calcul de l'erreur d'arrondi de Python"
   ]
  },
  {
   "cell_type": "markdown",
   "metadata": {},
   "source": [
    "Conformément au cours, on appelle unité d'arrondi le nombre $u$ égale à la moitié de l'écart\n",
    "entre 1 et le plus petit nombre plus grand que $1$ représenté dans l'arithmétique utilisée. Nous\n",
    "allons calculer les unités d'arrondi du logiciel Python, sachant que la base utilisée pour la\n",
    "représentation des nombres est la base 2, on calculera l'unité d'arrondi au moyen de la boucle\n",
    "suivante\n",
    "```python\n",
    "x = 1\n",
    "y = 1 + x\n",
    "compteur=0\n",
    "Tant que y != 1\n",
    "    x = x/2\n",
    "    y = 1 + x\n",
    "    compteur=compteur+1\n",
    "Fin\n",
    "imprimer(x,compteur)\n",
    "```\n",
    "\n",
    ">**A faire :** Implémenter cette boucle dans la boucle de code du dessous et calculer l'erreur d'arrondi de Python."
   ]
  },
  {
   "cell_type": "code",
   "execution_count": 2,
   "metadata": {},
   "outputs": [
    {
     "name": "stdout",
     "output_type": "stream",
     "text": [
      "1.1102230246251565e-16 53\n"
     ]
    }
   ],
   "source": [
    "x = 1\n",
    "y = 1 + x\n",
    "compteur = 0\n",
    "while y != 1 :\n",
    "    x /= 2\n",
    "    y = 1 + x\n",
    "    compteur += 1\n",
    "print(x, compteur)"
   ]
  },
  {
   "cell_type": "markdown",
   "metadata": {},
   "source": [
    "Vous devez trouver un résultat cohérent avec le codage 64 bits des nombres en virgule flottante. Le premier bit est le signe du nombre, les 11 bits suivants sont la puissance (la place de la virgule) et les 52 derniers sont la précision.  "
   ]
  },
  {
   "cell_type": "markdown",
   "metadata": {},
   "source": [
    "### Modification de l'erreur d'arrondi de Python"
   ]
  },
  {
   "cell_type": "markdown",
   "metadata": {},
   "source": [
    "Nous voulons maintenant forcer l'ordinateur à effectuer des calculs avec moins de chiffre\n",
    "de mantisse. Nous allons pour cela utiliser la fonction $(a , b) =\\textrm{np.frexp}(x)$ qui rend $a\\in[0,5; 1[$ et\n",
    "$b\\in\\mathbb{Z}$ tels que $x = a \\times 2^{b}$.\n",
    "Le nombre de chiffres significatifs de $x$ correspond donc au nombre de chiffres significatifs de $a$. En notant $E$ la fonction partie entière et $c = 2^{-n}E(a\\times 2^{n})$, le\n",
    "nombre $c$ est égal au nombre $a$ à $n$ chiffres significatifs près (en base $2$).\n",
    "Ainsi $\\tilde{x} = c \\times 2^{b}$ est égal à $x$ à $n$ chiffres significatifs près (en base $2$).\n",
    "\n",
    ">**A faire :** Implémenter la fonction $\\textrm{arrondi}(x)$ qui rend $\\tilde{x}$, une valeur approchée de $x$ à $30$ chiffres significatifs près (en base $2$). Pour pouvoir utiliser la fonction arrondi dans le reste du TP, on fera attention au fait que $x$ puisse être un tableau de numpy. Poser x=[0.1,1] et calculer l'erreur entre x et arrondi(x). "
   ]
  },
  {
   "cell_type": "code",
   "execution_count": 64,
   "metadata": {},
   "outputs": [
    {
     "name": "stdout",
     "output_type": "stream",
     "text": [
      "[0.1 1. ]\n"
     ]
    }
   ],
   "source": [
    "def arrondi(x):\n",
    "    a,b = np.frexp(x)\n",
    "    n = 30\n",
    "    c = pow(2,-n)*np.rint(a*pow(2,n))\n",
    "    return c * np.power(2.0,b)\n",
    "x=np.array([0.1,1])\n",
    "print(arrondi(x))"
   ]
  },
  {
   "cell_type": "markdown",
   "metadata": {},
   "source": [
    ">**A faire :** Reprendre la boucle précédente (où vous avez calculé l'erreur d'arrondi de Python) et calculer la nouvelle erreur d'arrondi. Vous devez trouver 30 !!"
   ]
  },
  {
   "cell_type": "code",
   "execution_count": 32,
   "metadata": {},
   "outputs": [
    {
     "name": "stdout",
     "output_type": "stream",
     "text": [
      "9.313225746154785e-10 30\n"
     ]
    }
   ],
   "source": [
    "x = 1\n",
    "y = 1 + x\n",
    "compteur = 0\n",
    "while y != 1 :\n",
    "    x /= 2\n",
    "    y = arrondi(1 + x)\n",
    "    compteur += 1\n",
    "print(x, compteur)"
   ]
  },
  {
   "cell_type": "markdown",
   "metadata": {},
   "source": [
    "### Calculs de dérivées numériques"
   ]
  },
  {
   "cell_type": "markdown",
   "metadata": {},
   "source": [
    "On peut calculer une dérivée de façon approchée en utilisant la formule \n",
    "\n",
    "\\begin{equation*}\n",
    "D_h(x) = \\frac{f(x+h)-f(x)}{h} = f'(x) + f''(\\eta)\\frac h 2. \\quad\\quad\\quad (1.1)\n",
    "\\end{equation*}\n",
    "\n",
    "Les $D_h(x)$ fournissent une approximation de $f'(x)$ dont la qualité augmente *a priori* lorsque $h$ décroît.\n",
    "\n",
    ">**A faire :** Créer une fonction python ```calculderivee()``` qui calcule les valeurs approchées de la dérivée de la fonction $f(x) = \\sin(3x)$ au point $x=1$ avec les pas $h_k = 10^{-k}$, $1\\leq k\\leq 10$. Cette fonction rendra deux vecteurs [err1,err2], le vecteur err1 est le calcul de l'erreur entre la dérivée approchée et la vraie dérivée sans la fonction $\\textrm{arrondi}$ et le vecteur err2 est le calcul d'erreur avec la fonction $\\textrm{arrondi}$.\n",
    "\n",
    ">**A faire :** On affichera le log des erreurs calculées avec la librairie matplotlib."
   ]
  },
  {
   "cell_type": "code",
   "execution_count": 80,
   "metadata": {},
   "outputs": [
    {
     "data": {
      "image/png": "[encoded data removed]",
      "text/plain": [
       "<Figure size 640x480 with 1 Axes>"
      ]
     },
     "metadata": {},
     "output_type": "display_data"
    }
   ],
   "source": [
    "def f(x):\n",
    "    return np.sin(3*x)\n",
    "\n",
    "def f_prime(x):\n",
    "    return 3*np.cos(3*x)\n",
    "\n",
    "\n",
    "def calculderivee():\n",
    "    k = np.arange(1,11);\n",
    "    k = k.astype(np.float64)\n",
    "    h = np.power(10.0,-k)\n",
    "    x = 1\n",
    "    err1 = (f(x+h)-f(x))/h - f_prime(x)\n",
    "    err2 = arrondi((f(x+h)-f(x))/h - f_prime(x))\n",
    "    plt.plot(np.log(h), np.log(np.abs(err1)))\n",
    "    plt.plot(np.log(h), np.log(np.abs(err2)))\n",
    "    return [err1,err2]\n",
    "\n",
    "err = calculderivee()\n"
   ]
  },
  {
   "cell_type": "markdown",
   "metadata": {},
   "source": [
    "On peut interpréter le comportement des erreurs calculées en remplaçant l'estimation déduite de $(1.1)$ par:\n",
    "\n",
    "\\begin{equation*}|D_h(1)-f'(1)|\\leq \\frac h 2 |f''(\\eta)| + \\frac {2u_f}h. \\quad\\quad\\quad (1.2)\n",
    "\\end{equation*}\n",
    "\n",
    "où $u_f$ est l'erreur d'arrondi et où on approxime $|f''(\\eta)|\\approx 9\\sin(3)$.\n",
    "\n",
    ">**A faire :** Calculer les valeurs pour les différents pas du membre de droite de $(1.2)$. Afficher les courbes log du calcul de l'erreur effectué à la question précédente et de l'estimation théorique donnée par $(1.2)$. Montrez que l'estimation théorique donne un résultat honorable."
   ]
  },
  {
   "cell_type": "code",
   "execution_count": 92,
   "metadata": {},
   "outputs": [
    {
     "data": {
      "text/plain": [
       "(array([1.e-01, 1.e-02, 1.e-03, 1.e-04, 1.e-05, 1.e-06, 1.e-07, 1.e-08,\n",
       "        1.e-09, 1.e-10]),\n",
       " array([1.86795322e-02, 5.90444752e-03, 6.30584595e-04, 6.34594553e-05,\n",
       "        6.34997209e-06, 6.34549511e-07, 6.29789421e-08, 1.19611121e-08,\n",
       "        2.46165741e-07, 1.07387863e-07]),\n",
       " array([6.35040036e-02, 6.35040036e-03, 6.35040036e-04, 6.35040036e-05,\n",
       "        6.35040036e-06, 6.35040036e-07, 6.35040036e-08, 6.35040036e-09,\n",
       "        6.35040036e-10, 6.35040036e-11]))"
      ]
     },
     "execution_count": 92,
     "metadata": {},
     "output_type": "execute_result"
    },
    {
     "data": {
      "image/png": "[encoded data removed]",
      "text/plain": [
       "<Figure size 640x480 with 1 Axes>"
      ]
     },
     "metadata": {},
     "output_type": "display_data"
    }
   ],
   "source": [
    "def f_second(x):\n",
    "    return -9*np.sin(3*x)\n",
    "\n",
    "def calculderivee():\n",
    "    k = np.arange(1,11);\n",
    "    k = k.astype(np.float64)\n",
    "    h = np.power(10.0,-k)\n",
    "    x = 1.0\n",
    "    \n",
    "    err1 = np.abs((f(x+h)-f(x))/h - f_prime(x))\n",
    "    err2 = np.abs(f_second(x)) * h / 2.\n",
    "    \n",
    "    plt.plot(np.log(h), np.log(err1), color=\"blue\")\n",
    "    plt.plot(np.log(h), np.log(err2), color=\"red\")\n",
    "    return h,err1,err2\n",
    "calculderivee()"
   ]
  },
  {
   "cell_type": "markdown",
   "metadata": {},
   "source": [
    "## Deuxième partie : Calcul d'intégrales"
   ]
  },
  {
   "cell_type": "markdown",
   "metadata": {},
   "source": [
    "On va s'intéresser au calcul des intégrales\n",
    "\n",
    "\\begin{equation*}\n",
    "I_k = \\int_0^1 \\frac{x^k}{20+9x+x^2}dx.\n",
    "\\end{equation*}\n",
    "\n",
    "On rappelle que vous avez démontré en travaux dirigés que les $I_k$ vérifient la relation\n",
    "\n",
    "\\begin{equation*}\n",
    "I_{k+1} = \\frac 1 k - 9I_k-20 I_{k-1}. \\quad\\quad\\quad (1.3)\n",
    "\\end{equation*}\n",
    "\n",
    "Vous avez également établi que, pour $k\\geq 2$, on a\n",
    "\n",
    "\\begin{equation*}\n",
    "\\frac{1}{30(k+1)} \\leq I_k \\leq \\frac{1}{20(k+1)}. \\quad\\quad\\quad (1.4)\n",
    "\\end{equation*}\n",
    "\n",
    "> **A faire :** <ol>\n",
    "> <li>Calculer les $I_k$ pour $0\\leq k \\leq 10$, en utilisant la relation $(1.3)$ initialisée par:\n",
    "\n",
    ">\\begin{equation*}\\left\\{\\begin{array}{ll}\n",
    "I_0 = \\ln(25/24),\n",
    "\\\\ I_1 = 4\\ln(4) - 9\\ln(5)+5\\ln(6).\n",
    "\\end{array}\\right.\\end{equation*}\n",
    "</li>\n",
    "\n",
    "><li>Calculer $I_{30}$. Vérifiez-vous les bornes $(1.4)$ ?</li>\n",
    "\n",
    "</ol>"
   ]
  },
  {
   "cell_type": "code",
   "execution_count": 114,
   "metadata": {},
   "outputs": [
    {
     "name": "stdout",
     "output_type": "stream",
     "text": [
      "-8.734510198199414e+19\n",
      "0.001075268817204301 0.0016129032258064516\n"
     ]
    }
   ],
   "source": [
    "I0 = np.log(25./24.)\n",
    "I1 = 4*np.log(4)-9*np.log(5)+5*np.log(6)\n",
    "I = [I0,I1]\n",
    "def IntegralCalcUp(k):\n",
    "    if len(I) > k:\n",
    "        return I[k]\n",
    "    else:\n",
    "        for i in range(len(I),k+1):\n",
    "            I.append(1./i - 9*I[i-1] - 20*I[i-2])\n",
    "        return I[k]\n",
    "\n",
    "val = 30    \n",
    "print(IntegralCalcUp(val))\n",
    "print(1./(30*(val+1)), 1./(20*(val+1)))"
   ]
  },
  {
   "cell_type": "markdown",
   "metadata": {},
   "source": [
    "On inverse la relation de récurrence $(1.3)$ pour écrire la relation\n",
    "\n",
    "\\begin{equation*}\n",
    "I_{k-1} = \\frac{1}{20k} - \\frac 9 {20} I_k - \\frac 1 {20} I_{k+1}\n",
    "\\end{equation*}\n",
    "> **A faire :** Ecrire un programme $\\textrm{IntegralCalcDown(k,m)}$ avec $k\\le m-1$ implémentant la nouvelle relation de récurrence en partant de $I_m=\\frac{1}{20(m+1)}$ et $I_{m-1}=\\frac{1}{20(m)}$ qui calcule $I_k$."
   ]
  },
  {
   "cell_type": "code",
   "execution_count": 143,
   "metadata": {},
   "outputs": [
    {
     "name": "stdout",
     "output_type": "stream",
     "text": [
      "2742244999.9790277\n",
      "0.002129700795106968\n",
      "0.002129700798229367\n"
     ]
    }
   ],
   "source": [
    "def IntegralCalcDown(k,m):\n",
    "    if k > m:\n",
    "        print(\"erreur : k > m\")\n",
    "        return\n",
    "    I = [1./(20.*(m+1)), 1./(20.*m)]\n",
    "    i = m\n",
    "    while m-k+1>=len(I):\n",
    "        I.append( 1./(20*i) - 9./(20.) *I[len(I)-1] - 1./(20.)*I[len(I)-2])\n",
    "        i-=1\n",
    "    \n",
    "    return I[m-k+1]\n",
    "    \n",
    "print(IntegralCalcUp(15))\n",
    "print(IntegralCalcDown(15,30))\n",
    "print(IntegralCalcDown(15,1000))\n",
    "\n",
    "\n"
   ]
  },
  {
   "cell_type": "markdown",
   "metadata": {},
   "source": [
    "Comparer la valeur de $\\textrm{IntegralCalcDown(0,100)}$ et la valeur donnée de $I_0$"
   ]
  },
  {
   "cell_type": "code",
   "execution_count": 144,
   "metadata": {},
   "outputs": [
    {
     "name": "stdout",
     "output_type": "stream",
     "text": [
      "0.04082199452025513 0.0408219945202552\n"
     ]
    }
   ],
   "source": [
    "print(IntegralCalcDown(0,100), I0)"
   ]
  },
  {
   "cell_type": "code",
   "execution_count": null,
   "metadata": {},
   "outputs": [],
   "source": []
  }
 ],
 "metadata": {
  "kernelspec": {
   "display_name": "Python 3 (ipykernel)",
   "language": "python",
   "name": "python3"
  },
  "language_info": {
   "codemirror_mode": {
    "name": "ipython",
    "version": 3
   },
   "file_extension": ".py",
   "mimetype": "text/x-python",
   "name": "python",
   "nbconvert_exporter": "python",
   "pygments_lexer": "ipython3",
   "version": "3.9.12"
  }
 },
 "nbformat": 4,
 "nbformat_minor": 1
}
